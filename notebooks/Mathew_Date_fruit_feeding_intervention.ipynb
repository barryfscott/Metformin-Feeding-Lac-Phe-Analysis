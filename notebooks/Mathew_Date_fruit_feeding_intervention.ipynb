{
 "cells": [
  {
   "cell_type": "code",
   "execution_count": 1,
   "id": "46d919e4",
   "metadata": {},
   "outputs": [
    {
     "name": "stdout",
     "output_type": "stream",
     "text": [
      "Using local file Mathew_feeding_metabolomics.xlsx.\n",
      "Using local file unknown_Metabolon_metabolites_renamed.xlsx.\n"
     ]
    }
   ],
   "source": [
    "# Import essential data analysis and visualization libraries\n",
    "import pandas as pd\n",
    "import numpy as np\n",
    "import matplotlib.pyplot as plt\n",
    "import seaborn as sns\n",
    "import os\n",
    "\n",
    "def download_file(file_name, github_path):\n",
    "    \"\"\"\n",
    "    Downloads a file from GitHub to the local environment. If the environment is Google Colab,\n",
    "    the file is downloaded directly to the current directory. If the environment is local,\n",
    "    it checks for the file in the '../data/' directory.\n",
    "    \"\"\"\n",
    "    \n",
    "    if 'google.colab' in str(get_ipython()):\n",
    "        print(f'Downloading {file_name} from GitHub to Colab environment.')\n",
    "        !wget --no-check-certificate {github_path} -O {file_name}\n",
    "        return file_name  # The file will be downloaded to the current directory\n",
    "    else:\n",
    "        # For local execution, construct the path relative to the notebook directory\n",
    "        local_path = os.path.join('..', 'data', file_name)  # Go up one directory and then to the data folder\n",
    "        if not os.path.exists(local_path):\n",
    "            raise FileNotFoundError(f\"File {file_name} not found at {local_path}. Did you forget to download it?\")\n",
    "        print(f'Using local file {file_name}.')\n",
    "        return local_path\n",
    "\n",
    "# URL components for GitHub raw content\n",
    "github_base_url = 'https://raw.githubusercontent.com/barryfscott/Metformin-Feeding-Lac-Phe-Analysis/main/data/'\n",
    "\n",
    "# File names to download\n",
    "files_to_download = [\n",
    "    'Mathew_feeding_metabolomics.xlsx',\n",
    "    'unknown_Metabolon_metabolites_renamed.xlsx' \n",
    "    # Add more files as needed\n",
    "]\n",
    "\n",
    "# Download each file and store the paths\n",
    "paths_to_files = {}\n",
    "for file_name in files_to_download:\n",
    "    github_path = f'{github_base_url}{file_name}'\n",
    "    file_path = download_file(file_name, github_path)\n",
    "    paths_to_files[file_name] = file_path\n"
   ]
  },
  {
   "cell_type": "markdown",
   "id": "7586adf8",
   "metadata": {},
   "source": [
    "## Data Source and Preparation\n",
    "The dataset utilized in this study is derived from the paper titled:\n",
    "\n",
    "**Metabolic changes of the blood metabolome after a date fruit challenge** \n",
    "Dataset available [here](https://www.sciencedirect.com/science/article/pii/S1756464618304699). Prior to analysis, certain columns were removed using Excel for a streamlined data import process into a pandas DataFrame.\n",
    "\n",
    "### Date varieties\n",
    "- \"DATES VARIETY 1\" are  \"Deglet Nour\" Dates\n",
    "- \"DATES VARIETY 2\" are \"Khlas\" Dates\n"
   ]
  },
  {
   "cell_type": "code",
   "execution_count": 2,
   "id": "ba83b255",
   "metadata": {},
   "outputs": [],
   "source": [
    "# Load the post-challenge metabolomics data into a dataframe and transpose it\n",
    "metabolomics_df = pd.read_excel(\n",
    "    paths_to_files['Mathew_feeding_metabolomics.xlsx'],\n",
    "    sheet_name=\"Data_only_metabolite_name\",\n",
    "    index_col=0\n",
    ").T\n",
    "\n",
    "# Columns from '1,2,3-benzenetriol sulfate (1)' to 'X - 24932' are converted to floats for numerical analysis\n",
    "metabolite_data_columns = metabolomics_df.loc[:, '1,2,3-benzenetriol sulfate (1)':'X - 24932'].columns\n",
    "metabolomics_df[metabolite_data_columns] = metabolomics_df[metabolite_data_columns].astype(float)\n",
    "\n",
    "# Update metabolite column names by removing the 'retired for' prefix from any column where it appears\n",
    "metabolomics_df.columns = [\n",
    "    col.split(\"retired for \")[1] if \"retired for \" in col else col for col in metabolomics_df.columns\n",
    "]\n"
   ]
  },
  {
   "cell_type": "markdown",
   "id": "dd06d0cc",
   "metadata": {},
   "source": [
    "## Metabolite Renaming for Clarity\n",
    "To enhance the interpretability of the metabolomics data, specific metabolites, particularly N-lactoyl amino acids, were renamed from their originally reported names. This renaming process aids in the clear identification and analysis of these compounds within the dataset. Additionally, a separate list of metabolites identified as 'retired' by Meta"
   ]
  },
  {
   "cell_type": "code",
   "execution_count": 3,
   "id": "311223f6",
   "metadata": {},
   "outputs": [],
   "source": [
    "n_lac_metabolite_mapping  ={\n",
    "\"X - 13529\":\"N-lactoyl valine\",\n",
    "\"X - 15497\":\"N-lactoyl phenylalanine\",\n",
    "\"X - 18889\":\"N-lactoyl leucine\",\n",
    "\"X - 22102\":\"N-lactoyl isoleucine\",\n",
    "\"X - 19561\":\"N-lactoyl tyrosine\",\n",
    "\"X - 25607\":\"N-lactoyl histidine\",\n",
    "    \"1-carboxyethylvaline\":\"N-lactoyl valine\",\n",
    "    \"1-carboxyethylphenylalanine\":\"N-lactoyl phenylalanine\",\n",
    "    \"1-carboxyethylleucine\":\"N-lactoyl leucine\",\n",
    "    \"1-carboxyethylisoleucine\":\"N-lactoyl isoleucine\",\n",
    "    \"1-carboxyethyltyrosine\":\"N-lactoyl tyrosine\",\n",
    "    \"1-carboxyethylhistidine\":\"N-lactoyl histidine\"\n",
    "}\n",
    "\n",
    "# Rename N-lactoyl metabolite columns using the defined mapping\n",
    "metabolomics_df.rename(columns=n_lac_metabolite_mapping, inplace=True)\n",
    "\n",
    "# Load a spreadsheet that contains additional metabolite names that have been updated\n",
    "metabolites_renamed_df = pd.read_excel(\n",
    "    paths_to_files[\"unknown_Metabolon_metabolites_renamed.xlsx\"],\n",
    "    sheet_name=\"metabolites_renamed\"\n",
    ")\n",
    "\n",
    "# Create a dictionary for renaming metabolites based on the spreadsheet\n",
    "updated_metabolite_names = metabolites_renamed_df[\n",
    "    metabolites_renamed_df[\"Retired for\"].notna()\n",
    "].set_index(\"Name\")[\"Retired for\"].to_dict()\n",
    "\n",
    "# Update metabolite column names using the dictionary\n",
    "metabolomics_df.rename(columns=updated_metabolite_names, inplace=True)"
   ]
  },
  {
   "cell_type": "markdown",
   "id": "67e7cbd6",
   "metadata": {},
   "source": [
    "## Normalised by the baseline (pre intervention) for  all volunteers and inteventions"
   ]
  },
  {
   "cell_type": "code",
   "execution_count": 4,
   "id": "43c1ea0c",
   "metadata": {},
   "outputs": [],
   "source": [
    "# Select all columns with metabolite data for the analysis\n",
    "metabolite_data_columns = metabolomics_df.loc[:, '1,2,3-benzenetriol sulfate (1)':'X - 24932'].columns\n",
    "\n",
    "# Set multi-index using 'SUBJECT_ID', 'TREATMENT', and 'TIME_POINT' and reshape the dataframe\n",
    "metabolite_time_series_df = metabolomics_df.set_index([\"SUBJECT_ID\", \"TREATMENT\", \"TIME_POINT\"])[metabolite_data_columns]\n",
    "metabolite_time_series_df = metabolite_time_series_df.stack().unstack(\"TIME_POINT\")\n",
    "\n",
    "# Reorder columns by time points to maintain a consistent order\n",
    "time_points_ordered = ['0min', '30min', '60min', '90min', '120min']\n",
    "metabolite_time_series_df = metabolite_time_series_df.reindex(columns=time_points_ordered)\n",
    "\n",
    "# Normalize data by dividing by the '0min' time point for each metabolite\n",
    "normalized_metabolite_data_df = metabolite_time_series_df.div(metabolite_time_series_df[\"0min\"], axis=0)\n",
    "\n",
    "# Reset the index to turn the multi-index into columns\n",
    "normalized_metabolite_data_df.reset_index(inplace=True)\n",
    "\n",
    "normalized_metabolite_data_df.rename(columns ={\"level_2\":\"metabolite\"},inplace=True)\n",
    "\n"
   ]
  },
  {
   "cell_type": "markdown",
   "id": "252114dd",
   "metadata": {},
   "source": [
    "## Function for plotting metabolite levels before and after eating, categorized by health status"
   ]
  },
  {
   "cell_type": "code",
   "execution_count": 5,
   "id": "9d3479d0",
   "metadata": {},
   "outputs": [],
   "source": [
    "# Function to plot metabolite levels over time for different treatments\n",
    "def plot_metabolite(df, metabolite_of_interest, return_df=False):\n",
    "    # Filter dataframe for the selected metabolite\n",
    "    metabolite_data = df[df['metabolite'] == metabolite_of_interest]\n",
    "    \n",
    "    \n",
    "    # Define time points for x-axis and treatments for plotting\n",
    "    time_points = ['0min', '30min', '60min', '90min', '120min']\n",
    "    treatments = metabolite_data['TREATMENT'].unique()\n",
    "    \n",
    "    # Initialize a figure for plotting\n",
    "    plt.figure(figsize=(12, 8))\n",
    "    \n",
    "    # Loop through each treatment and plot the mean and SEM for each time point\n",
    "    \n",
    "    for treatment in treatments:\n",
    "        \n",
    "        treatment_data = metabolite_data[metabolite_data['TREATMENT'] == treatment]\n",
    "        means = treatment_data[time_points].mean()\n",
    "        sems = treatment_data[time_points].sem()\n",
    "        plt.errorbar(time_points, means, yerr=sems, label=treatment, fmt='-o', capsize=5)\n",
    "\n",
    "    # Customize the plot with labels and title\n",
    "    plt.xlabel('Time Point')\n",
    "    plt.ylabel(metabolite_of_interest)\n",
    "    plt.title(f'Metabolite {metabolite_of_interest} Levels Over Time by Treatment')\n",
    "    plt.legend(title='Treatment')\n",
    "    plt.xticks(time_points, labels=time_points)\n",
    "    sns.despine()\n",
    "    \n",
    "    if return_df:\n",
    "        return metabolite_data\n",
    "\n",
    "   \n"
   ]
  },
  {
   "cell_type": "markdown",
   "id": "5a137a82",
   "metadata": {},
   "source": [
    "## Analysis of N-lactoyl Phenylalanine (Lac-Phe) Levels in Response to a Date fruit challenge\n",
    "\n",
    "This visualization presents the variations in N-lactoyl phenylalanine (Lac-Phe) concentrations before and after the consumption of 10 Dates or and Oral Glucose tolerance test. It offers an illustrative comparison with Figure 3e from the original publication, using the same dataset but visualized here via Python’s Matplotlib and Seaborn libraries instead of GraphPad Prism. The individual data points represent subjects' metabolite levels normalised by the baseline, while the bars indicate the mean values for each group.\n",
    "\n",
    "_To view the code responsible for generating this plot, please refer to the `plot_metabolite` function within the Jupyter notebook._\n",
    "\n",
    "\n",
    "- Lac-Phe increases up by over 220% with both Date fruit challenges \n",
    "- Oral glucose tolerance test (OGTT) only leads to an increase of  37%"
   ]
  },
  {
   "cell_type": "code",
   "execution_count": 6,
   "id": "fc2a07b5",
   "metadata": {
    "scrolled": false
   },
   "outputs": [
    {
     "data": {
      "text/html": [
       "<div>\n",
       "<style scoped>\n",
       "    .dataframe tbody tr th:only-of-type {\n",
       "        vertical-align: middle;\n",
       "    }\n",
       "\n",
       "    .dataframe tbody tr th {\n",
       "        vertical-align: top;\n",
       "    }\n",
       "\n",
       "    .dataframe thead th {\n",
       "        text-align: right;\n",
       "    }\n",
       "</style>\n",
       "<table border=\"1\" class=\"dataframe\">\n",
       "  <thead>\n",
       "    <tr style=\"text-align: right;\">\n",
       "      <th>TIME_POINT</th>\n",
       "      <th>SUBJECT_ID</th>\n",
       "      <th>0min</th>\n",
       "      <th>30min</th>\n",
       "      <th>60min</th>\n",
       "      <th>90min</th>\n",
       "      <th>120min</th>\n",
       "    </tr>\n",
       "    <tr>\n",
       "      <th>TREATMENT</th>\n",
       "      <th></th>\n",
       "      <th></th>\n",
       "      <th></th>\n",
       "      <th></th>\n",
       "      <th></th>\n",
       "      <th></th>\n",
       "    </tr>\n",
       "  </thead>\n",
       "  <tbody>\n",
       "    <tr>\n",
       "      <th>DATES VARIETY 1</th>\n",
       "      <td>84.809524</td>\n",
       "      <td>1.0</td>\n",
       "      <td>1.890297</td>\n",
       "      <td>3.155869</td>\n",
       "      <td>3.237373</td>\n",
       "      <td>2.762554</td>\n",
       "    </tr>\n",
       "    <tr>\n",
       "      <th>DATES VARIETY 2</th>\n",
       "      <td>84.400000</td>\n",
       "      <td>1.0</td>\n",
       "      <td>1.823116</td>\n",
       "      <td>3.033725</td>\n",
       "      <td>3.211924</td>\n",
       "      <td>2.920244</td>\n",
       "    </tr>\n",
       "    <tr>\n",
       "      <th>OGTT</th>\n",
       "      <td>84.809524</td>\n",
       "      <td>1.0</td>\n",
       "      <td>1.069873</td>\n",
       "      <td>1.245019</td>\n",
       "      <td>1.372920</td>\n",
       "      <td>1.375550</td>\n",
       "    </tr>\n",
       "  </tbody>\n",
       "</table>\n",
       "</div>"
      ],
      "text/plain": [
       "TIME_POINT       SUBJECT_ID  0min     30min     60min     90min    120min\n",
       "TREATMENT                                                                \n",
       "DATES VARIETY 1   84.809524   1.0  1.890297  3.155869  3.237373  2.762554\n",
       "DATES VARIETY 2   84.400000   1.0  1.823116  3.033725  3.211924  2.920244\n",
       "OGTT              84.809524   1.0  1.069873  1.245019  1.372920  1.375550"
      ]
     },
     "execution_count": 6,
     "metadata": {},
     "output_type": "execute_result"
    },
    {
     "data": {
      "image/png": "[encoded data removed]",
      "text/plain": [
       "<Figure size 864x576 with 1 Axes>"
      ]
     },
     "metadata": {
      "needs_background": "light"
     },
     "output_type": "display_data"
    }
   ],
   "source": [
    "# Analyze and visualize N-lactoyl phenylalanine trends\n",
    "lac_phe_data = plot_metabolite(normalized_metabolite_data_df, 'N-lactoyl phenylalanine', return_df=True)\n",
    "\n",
    "# Sort values for a clearer understanding of treatment effects\n",
    "sorted_lac_phe_data = lac_phe_data.sort_values(by=[\"TREATMENT\", \"SUBJECT_ID\"])\n",
    "sorted_lac_phe_data.groupby(\"TREATMENT\").mean()"
   ]
  }
 ],
 "metadata": {
  "kernelspec": {
   "display_name": "Python 3 (ipykernel)",
   "language": "python",
   "name": "python3"
  },
  "language_info": {
   "codemirror_mode": {
    "name": "ipython",
    "version": 3
   },
   "file_extension": ".py",
   "mimetype": "text/x-python",
   "name": "python",
   "nbconvert_exporter": "python",
   "pygments_lexer": "ipython3",
   "version": "3.8.12"
  }
 },
 "nbformat": 4,
 "nbformat_minor": 5
}
